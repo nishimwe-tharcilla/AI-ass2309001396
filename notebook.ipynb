{
 "cells": [
  {
   "cell_type": "markdown",
   "id": "56624334",
   "metadata": {},
   "source": [
    "# Iris Dataset ML Assignment\n",
    "This notebook performs data cleaning, EDA, model training, and a simple UI using Streamlit."
   ]
  },
  {
   "cell_type": "markdown",
   "id": "6d1c55d5",
   "metadata": {},
   "source": [
    "## 1. Data Cleaning"
   ]
  },
  {
   "cell_type": "code",
   "execution_count": null,
   "id": "a152c5d6",
   "metadata": {},
   "outputs": [],
   "source": [
    "import pandas as pd\n",
    "from sklearn.datasets import load_iris\n",
    "\n",
    "df = load_iris(as_frame=True).frame\n",
    "\n",
    "df = df.dropna().drop_duplicates()\n",
    "df.to_csv('cleaned_data.csv', index=False)\n",
    "df.head()"
   ]
  },
  {
   "cell_type": "markdown",
   "id": "613c6338",
   "metadata": {},
   "source": [
    "## 2. Exploratory Data Analysis"
   ]
  },
  {
   "cell_type": "code",
   "execution_count": null,
   "id": "1c031edc",
   "metadata": {},
   "outputs": [],
   "source": [
    "import matplotlib.pyplot as plt\n",
    "import seaborn as sns\n",
    "\n",
    "print(df.describe())"
   ]
  },
  {
   "cell_type": "code",
   "execution_count": null,
   "id": "db12fd6f",
   "metadata": {},
   "outputs": [],
   "source": [
    "sns.histplot(df['sepal length (cm)'], kde=True)\n",
    "plt.title('Sepal Length Distribution')\n",
    "plt.show()"
   ]
  },
  {
   "cell_type": "code",
   "execution_count": null,
   "id": "de2b4469",
   "metadata": {},
   "outputs": [],
   "source": [
    "sns.boxplot(x='target', y='petal length (cm)', data=df)\n",
    "plt.title('Petal Length by Class')\n",
    "plt.show()"
   ]
  },
  {
   "cell_type": "code",
   "execution_count": null,
   "id": "a75c7716",
   "metadata": {},
   "outputs": [],
   "source": [
    "sns.heatmap(df.corr(), annot=True, cmap='coolwarm')\n",
    "plt.title('Feature Correlation Heatmap')\n",
    "plt.show()"
   ]
  },
  {
   "cell_type": "markdown",
   "id": "55291213",
   "metadata": {},
   "source": [
    "## 3. Machine Learning Model"
   ]
  },
  {
   "cell_type": "code",
   "execution_count": null,
   "id": "53e246d5",
   "metadata": {},
   "outputs": [],
   "source": [
    "from sklearn.model_selection import train_test_split\n",
    "from sklearn.ensemble import RandomForestClassifier\n",
    "from sklearn.metrics import accuracy_score\n",
    "\n",
    "X = df.drop('target', axis=1)\n",
    "y = df['target']\n",
    "X_train, X_test, y_train, y_test = train_test_split(X, y, test_size=0.2, random_state=42)\n",
    "\n",
    "model = RandomForestClassifier(random_state=42)\n",
    "model.fit(X_train, y_train)\n",
    "y_pred = model.predict(X_test)\n",
    "print('Accuracy:', accuracy_score(y_test, y_pred))"
   ]
  },
  {
   "cell_type": "code",
   "execution_count": null,
   "id": "908a99ee",
   "metadata": {},
   "outputs": [],
   "source": [
    "import joblib\n",
    "joblib.dump(model, 'iris_model.pkl')"
   ]
  },
  {
   "cell_type": "markdown",
   "id": "79d8946b",
   "metadata": {},
   "source": [
    "## 4. UI Instructions\n",
    "We use Streamlit to build a UI. Run `app.py` locally with:\n",
    "```\n",
    "streamlit run app.py\n",
    "```"
   ]
  }
 ],
 "metadata": {},
 "nbformat": 4,
 "nbformat_minor": 5
}
